{
 "cells": [
  {
   "cell_type": "markdown",
   "metadata": {},
   "source": [
    "# Building A Database For Crime Reports\n",
    "We've been tasked with building a database using Postgres that stores crime report information. This database should allow the data analysts read-only priviliges and the data scientists read-write priviliges."
   ]
  },
  {
   "cell_type": "markdown",
   "metadata": {},
   "source": [
    "## Database and Schema Creation"
   ]
  },
  {
   "cell_type": "code",
   "execution_count": 1,
   "metadata": {
    "collapsed": false
   },
   "outputs": [],
   "source": [
    "import psycopg2\n",
    "\n",
    "# connect to database dq\n",
    "conn = psycopg2.connect(dbname='dq', user='dq')\n",
    "cur = conn.cursor()\n",
    "\n",
    "# create database crime_db\n",
    "conn.autocommit = True\n",
    "cur.execute('''DROP DATABASE IF EXISTS crime_db;''')\n",
    "cur.execute('''CREATE DATABASE crime_db;''')\n",
    "conn.autocommit = False\n",
    "conn.close()\n",
    "\n",
    "# create schema crimes\n",
    "conn = psycopg2.connect(dbname='crime_db', user='dq')\n",
    "cur = conn.cursor()\n",
    "cur.execute('''CREATE SCHEMA crimes;''')"
   ]
  },
  {
   "cell_type": "markdown",
   "metadata": {},
   "source": [
    "## Data Exploration"
   ]
  },
  {
   "cell_type": "code",
   "execution_count": 2,
   "metadata": {
    "collapsed": false
   },
   "outputs": [
    {
     "name": "stdout",
     "output_type": "stream",
     "text": [
      "HEADERS: ['incident_number', 'offense_code', 'description', 'date', 'day_of_the_week', 'lat', 'long']\n",
      "\n",
      "FIRST ROW: ['1', '619', 'LARCENY ALL OTHERS', '2018-09-02', 'Sunday', '42.35779134', '-71.13937053']\n"
     ]
    }
   ],
   "source": [
    "import csv\n",
    "\n",
    "# place header and first row in global variables\n",
    "col_headers = []\n",
    "first_row = []\n",
    "with open('boston.csv', 'r') as file:\n",
    "    reader = csv.reader(file)\n",
    "    reader_rows = []\n",
    "    for row in reader:\n",
    "        reader_rows.append(row)\n",
    "    col_headers = reader_rows[0]\n",
    "    first_row = reader_rows[1]\n",
    "    \n",
    "print('HEADERS: ' + str(col_headers))\n",
    "print('\\nFIRST ROW: ' + str(first_row))"
   ]
  },
  {
   "cell_type": "code",
   "execution_count": 3,
   "metadata": {
    "collapsed": false
   },
   "outputs": [
    {
     "name": "stdout",
     "output_type": "stream",
     "text": [
      "HEADERS: DISTINCT VALUES\n",
      "\n",
      "incident_number: 298329\n",
      "offense_code: 219\n",
      "description: 239\n",
      "date: 1177\n",
      "day_of_the_week: 7\n",
      "lat: 18177\n",
      "long: 18177\n"
     ]
    }
   ],
   "source": [
    "# create function that returns a set of all column values from a given\n",
    "# column index and csv file\n",
    "def get_col_set(csv_filename, col_index):\n",
    "    with open(csv_filename, 'r') as file:\n",
    "        next(file)\n",
    "        reader = csv.reader(file)\n",
    "        distinct_col_values = set()\n",
    "        for row in reader:\n",
    "            distinct_col_values.add(row[col_index])\n",
    "        return distinct_col_values\n",
    "\n",
    "# print headers and corresponding count of distinct values in header column \n",
    "print('HEADERS: DISTINCT VALUES\\n')\n",
    "for col_index in range(len(col_headers)):\n",
    "    col_distinct_total = len(get_col_set('boston.csv', col_index))\n",
    "    print(col_headers[col_index] + ': ' + str(col_distinct_total))"
   ]
  },
  {
   "cell_type": "code",
   "execution_count": 4,
   "metadata": {
    "collapsed": false
   },
   "outputs": [
    {
     "name": "stdout",
     "output_type": "stream",
     "text": [
      "HEADERS: MAX LENGTH\n",
      "\n",
      "offense_code: 4\n",
      "description: 58\n"
     ]
    }
   ],
   "source": [
    "# get the longest length of offense_code and description for optimal\n",
    "# datatype initialization\n",
    "max_offense_code = 0\n",
    "for offense_code in get_col_set('boston.csv', 1):\n",
    "    offense_code_length = len(offense_code)\n",
    "    if offense_code_length > max_offense_code:\n",
    "        max_offense_code = offense_code_length\n",
    "max_description = 0\n",
    "for description in get_col_set('boston.csv', 2):\n",
    "    description_length = len(description)\n",
    "    if description_length > max_description:\n",
    "        max_description = description_length\n",
    "\n",
    "print('HEADERS: MAX LENGTH\\n')\n",
    "print(col_headers[1] + ': ' + str(max_offense_code))\n",
    "print(col_headers[2] + ': ' + str(max_description))"
   ]
  },
  {
   "cell_type": "markdown",
   "metadata": {},
   "source": [
    "## Table Creation\n",
    "Let's create the crimes table using optimal datatypes for efficient storage. We'll print the column headers and the first row again to help with choosing the datatypes."
   ]
  },
  {
   "cell_type": "code",
   "execution_count": 5,
   "metadata": {
    "collapsed": false
   },
   "outputs": [
    {
     "name": "stdout",
     "output_type": "stream",
     "text": [
      "HEADERS: ['incident_number', 'offense_code', 'description', 'date', 'day_of_the_week', 'lat', 'long']\n",
      "\n",
      "FIRST ROW: ['1', '619', 'LARCENY ALL OTHERS', '2018-09-02', 'Sunday', '42.35779134', '-71.13937053']\n"
     ]
    }
   ],
   "source": [
    "print('HEADERS: ' + str(col_headers))\n",
    "print('\\nFIRST ROW: ' + str(first_row))"
   ]
  },
  {
   "cell_type": "code",
   "execution_count": 6,
   "metadata": {
    "collapsed": false
   },
   "outputs": [],
   "source": [
    "# create enum datatype storing days of the week\n",
    "cur.execute('DROP TYPE IF EXISTS days_of_the_week')\n",
    "cur.execute('''\n",
    "    CREATE TYPE days_of_the_week\n",
    "    AS ENUM ('Sunday', 'Monday', 'Tuesday', 'Wednesday', 'Thursday', 'Friday', 'Saturday');\n",
    "''')\n",
    "\n",
    "# create crimes table\n",
    "cur.execute('DROP TABLE IF EXISTS crimes.boston_crimes')\n",
    "cur.execute('''\n",
    "    CREATE TABLE crimes.boston_crimes (\n",
    "        incident_number INTEGER PRIMARY KEY,\n",
    "        offense_code NUMERIC(4, 0),\n",
    "        description VARCHAR(70),\n",
    "        date DATE,\n",
    "        day_of_the_week DAYS_OF_THE_WEEK,\n",
    "        latitude NUMERIC(10, 8),\n",
    "        longitude NUMERIC(11, 8)\n",
    "    );\n",
    "''')"
   ]
  },
  {
   "cell_type": "code",
   "execution_count": 7,
   "metadata": {
    "collapsed": false
   },
   "outputs": [],
   "source": [
    "# load the data from file boston.csv to crimes table\n",
    "with open(\"boston.csv\") as f:\n",
    "    cur.copy_expert(\"COPY crimes.boston_crimes FROM STDIN WITH CSV HEADER;\", f)"
   ]
  },
  {
   "cell_type": "markdown",
   "metadata": {},
   "source": [
    "## Group Creation"
   ]
  },
  {
   "cell_type": "code",
   "execution_count": 8,
   "metadata": {
    "collapsed": true
   },
   "outputs": [],
   "source": [
    "# revoke public priviliges\n",
    "cur.execute('REVOKE ALL ON SCHEMA public FROM public;')\n",
    "cur.execute('REVOKE ALL ON DATABASE crime_db FROM public;')"
   ]
  },
  {
   "cell_type": "code",
   "execution_count": 9,
   "metadata": {
    "collapsed": false
   },
   "outputs": [],
   "source": [
    "# create groups readonly and readwrite\n",
    "cur.execute('CREATE GROUP readonly NOLOGIN;')\n",
    "cur.execute('CREATE GROUP readwrite NOLOGIN;')\n",
    "\n",
    "# grant connections\n",
    "cur.execute('GRANT CONNECT ON DATABASE crime_db TO readonly;')\n",
    "cur.execute('GRANT CONNECT ON DATABASE crime_db TO readwrite;')\n",
    "\n",
    "# grant usages\n",
    "cur.execute('GRANT USAGE ON SCHEMA crimes TO readonly;')\n",
    "cur.execute('GRANT USAGE ON SCHEMA crimes TO readwrite;')\n",
    "\n",
    "# grant priviliges\n",
    "cur.execute('GRANT SELECT ON ALL TABLES IN SCHEMA crimes TO readonly;')\n",
    "cur.execute('GRANT SELECT, INSERT, DELETE, UPDATE ON ALL TABLES IN SCHEMA crimes TO readwrite;')"
   ]
  },
  {
   "cell_type": "code",
   "execution_count": 10,
   "metadata": {
    "collapsed": true
   },
   "outputs": [],
   "source": [
    "# create users\n",
    "cur.execute('CREATE USER data_analyst WITH PASSWORD \\'secret1\\';')\n",
    "cur.execute('CREATE USER data_scientist WITH PASSWORD \\'secret2\\';')\n",
    "\n",
    "# assign users to groups\n",
    "cur.execute('GRANT readonly TO data_analyst;')\n",
    "cur.execute('GRANT readwrite TO data_scientist;')"
   ]
  },
  {
   "cell_type": "code",
   "execution_count": 11,
   "metadata": {
    "collapsed": false
   },
   "outputs": [
    {
     "data": {
      "text/plain": [
       "[('readonly', 'SELECT')]"
      ]
     },
     "execution_count": 11,
     "metadata": {},
     "output_type": "execute_result"
    }
   ],
   "source": [
    "# check readonly priviliges\n",
    "cur.execute('''\n",
    "    SELECT grantee, privilege_type\n",
    "        FROM information_schema.table_privileges\n",
    "        WHERE grantee = 'readonly';\n",
    "''')\n",
    "cur.fetchall()"
   ]
  },
  {
   "cell_type": "code",
   "execution_count": 12,
   "metadata": {
    "collapsed": false
   },
   "outputs": [
    {
     "data": {
      "text/plain": [
       "[('readwrite', 'INSERT'),\n",
       " ('readwrite', 'SELECT'),\n",
       " ('readwrite', 'UPDATE'),\n",
       " ('readwrite', 'DELETE')]"
      ]
     },
     "execution_count": 12,
     "metadata": {},
     "output_type": "execute_result"
    }
   ],
   "source": [
    "# check readwrite priviliges\n",
    "cur.execute('''\n",
    "    SELECT grantee, privilege_type\n",
    "        FROM information_schema.table_privileges\n",
    "        WHERE grantee = 'readwrite';\n",
    "''')\n",
    "cur.fetchall()"
   ]
  }
 ],
 "metadata": {
  "kernelspec": {
   "display_name": "Python 3",
   "language": "python",
   "name": "python3"
  },
  "language_info": {
   "codemirror_mode": {
    "name": "ipython",
    "version": 3
   },
   "file_extension": ".py",
   "mimetype": "text/x-python",
   "name": "python",
   "nbconvert_exporter": "python",
   "pygments_lexer": "ipython3",
   "version": "3.4.3"
  }
 },
 "nbformat": 4,
 "nbformat_minor": 2
}
